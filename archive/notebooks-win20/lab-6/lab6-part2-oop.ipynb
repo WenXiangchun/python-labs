{
 "cells": [
  {
   "cell_type": "markdown",
   "metadata": {},
   "source": [
    "# Lab 6: Object-Oriented Python (Part 2!)"
   ]
  },
  {
   "cell_type": "markdown",
   "metadata": {},
   "source": [
    "## Overview\n",
    "\n",
    "Congrats on making it to Part 2 of this lab - you're a rockstar!!\n",
    "\n",
    "After the past two weeks of lecture, which mostly covered rules, definitions, and semantics of classes, we'll be playing around with actual classes today, writing a fair amount of code and building several classes to model a variety of objects.\n",
    "\n",
    "Recall our starting definitions:\n",
    "\n",
    "- An *object* has identity\n",
    "- A *name* is a reference to an object\n",
    "- A *namespace* is an associative mapping from names to objects\n",
    "- An *attribute* is any name following a dot ('.')"
   ]
  },
  {
   "cell_type": "markdown",
   "metadata": {},
   "source": [
    "## Stanford Courses"
   ]
  },
  {
   "cell_type": "markdown",
   "metadata": {},
   "source": [
    "### Basic Class\n",
    "\n",
    "Let’s create a class to represent courses at Stanford! A course will have three attributes to start: a department (like `\"CS\"`), a course code (like `\"41\"` or `\"92SI\"`), and a title (like `\"hap.py code\"`).\n",
    "\n",
    "```Python\n",
    "class StanfordCourse:\n",
    "    def __init__(self, department, code, title):\n",
    "        self.department = department\n",
    "        self.code = code\n",
    "        self.title = title\n",
    "```\n",
    "\n",
    "You can assume that all arguments to this constructor will be strings.\n",
    "\n",
    "Running the following code cell will create a class object `StanfordCourse` and print some information about it.\n",
    "\n",
    "*Note: If you change the content of this class definition, you will need to re-execute the code cell for it to have any effect. Any instance objects of the old class object will not be automatically updated, so you may need to rerun instantiations of this class object as well.*"
   ]
  },
  {
   "cell_type": "code",
   "execution_count": 1,
   "metadata": {},
   "outputs": [
    {
     "name": "stdout",
     "output_type": "stream",
     "text": [
      "<class '__main__.StanfordCourse'>\n",
      "[<class '__main__.StanfordCourse'>, <class 'object'>]\n",
      "<function StanfordCourse.__init__ at 0x111ed7280>\n"
     ]
    }
   ],
   "source": [
    "class StanfordCourse:\n",
    "    def __init__(self, department, code, title):\n",
    "        self.department = department\n",
    "        self.code = code\n",
    "        self.title = title\n",
    "        \n",
    "print(StanfordCourse)\n",
    "print(StanfordCourse.mro())\n",
    "print(StanfordCourse.__init__)"
   ]
  },
  {
   "cell_type": "markdown",
   "metadata": {},
   "source": [
    "We create an instance of the class by instantiating the class object, supplying some arguments.\n",
    "\n",
    "```Python\n",
    "stanford_python = StanfordCourse(\"CS\", \"41\", \"hap.py code: the python programming language\")\n",
    "```\n",
    "\n",
    "Print out the three attributes of the `stanford_python` instance object."
   ]
  },
  {
   "cell_type": "code",
   "execution_count": null,
   "metadata": {},
   "outputs": [],
   "source": [
    "stanford_python = StanfordCourse(\"CS\", \"41\", \"hap.py code: the python programming language\")\n",
    "\n",
    "print()  # Print out the department of stanford_python\n",
    "print()  # Print out the code of stanford_python\n",
    "print()  # Print out the title of stanford_python"
   ]
  },
  {
   "cell_type": "markdown",
   "metadata": {},
   "source": [
    "### Inheritance\n",
    "\n",
    "Let's explore inheritance by creating a `StanfordCSCourse` class that takes an additional parameter `recorded` that defaults to `False`."
   ]
  },
  {
   "cell_type": "code",
   "execution_count": null,
   "metadata": {},
   "outputs": [],
   "source": [
    "class StanfordCSCourse(StanfordCourse):\n",
    "    def __init__(self, department, code, title, recorded=False):\n",
    "        super().__init__(department, code, title)\n",
    "        self.is_recorded = recorded"
   ]
  },
  {
   "cell_type": "markdown",
   "metadata": {},
   "source": [
    "We haven't seen the `super()` call yet, and it's mostly just magic, but it concretely lets us treat the `self` object as an instance object of the immediate superclass (as measured by MRO), so we can call the superclass's `__init__` method.\n",
    "\n",
    "We can instantiate our new class:\n",
    "\n",
    "```Python\n",
    "a = StanfordCourse(\"CS\", \"106A\", \"Programming Methodology\")\n",
    "b = StanfordCSCourse(\"CS\", \"106B\", \"Programming Abstractions\")\n",
    "x = StanfordCSCourse(\"CS\", \"106X\", \"Programming Abstractions\", recorded=True)\n",
    "print(a.code)  # => \"106A\"\n",
    "print(b.code)  # => \"106B\"\n",
    "```\n",
    "\n",
    "Read through the following statements and try to predict their output.\n",
    "\n",
    "```Python\n",
    "type(a)\n",
    "isinstance(a, StanfordCourse)\n",
    "isinstance(b, StanfordCourse)\n",
    "isinstance(x, StanfordCourse)\n",
    "isinstance(x, StanfordCSCourse)\n",
    "issubclass(x, StanfordCSCourse)\n",
    "issubclass(StanfordCourse, StanfordCSCourse)\n",
    "type(a) == type(b)\n",
    "type(b) == type(x)\n",
    "a == b\n",
    "b == x\n",
    "```"
   ]
  },
  {
   "cell_type": "code",
   "execution_count": null,
   "metadata": {},
   "outputs": [],
   "source": [
    "a = StanfordCourse(\"CS\", \"106A\", \"Programming Methodology\")\n",
    "b = StanfordCSCourse(\"CS\", \"106B\", \"Programming Abstractions\")\n",
    "x = StanfordCSCourse(\"CS\", \"106X\", \"Programming Abstractions\", recorded=True)\n",
    "\n",
    "print(type(a))\n",
    "print(isinstance(a, StanfordCourse))\n",
    "print(isinstance(b, StanfordCourse))\n",
    "print(isinstance(x, StanfordCourse))\n",
    "print(isinstance(x, StanfordCSCourse))\n",
    "print(issubclass(StanfordCourse, StanfordCSCourse))\n",
    "print(type(a) == type(b))\n",
    "print(type(b) == type(x))\n",
    "print(a == b)\n",
    "print(b == x)"
   ]
  },
  {
   "cell_type": "markdown",
   "metadata": {},
   "source": [
    "### Additional Attributes\n",
    "\n",
    "Let's add more functionality to the `StanfordCourse` class!\n",
    "\n",
    "* Add a attribute `students` to the instances of the `StanfordCourse` class that tracks whether students are present. Initially, students should be an empty set.\n",
    "* Create a method `mark_attendance(*students)` that takes a variadic number of `students` and marks them as present.\n",
    "* Create a method `is_present(student)` that takes a student’s name as a parameter and returns `True` if the student is present and `False` otherwise."
   ]
  },
  {
   "cell_type": "code",
   "execution_count": null,
   "metadata": {},
   "outputs": [],
   "source": [
    "class StanfordCourse:\n",
    "    def __init__(self, department, code, title):\n",
    "        self.department = department\n",
    "        self.code = code\n",
    "        self.title = title\n",
    "        \n",
    "    def mark_attendance(*students):\n",
    "        pass\n",
    "    \n",
    "    def is_present(student):\n",
    "        pass\n"
   ]
  },
  {
   "cell_type": "markdown",
   "metadata": {},
   "source": [
    "### Implementing Prerequisites\n",
    "\n",
    "Now, we'll focus on `StanfordCSCourse`. We want to implement functionality to determine if one computer science course is a prerequisite of another. In our implementation, we will assume that the ordering for courses is determined first by the numeric part of the course code: for example, `140` comes before `255`. If there is a tie, the ordering is determined by the default string ordering of the letters that follow. For example, `106A < 106B`. After implementing, you should be able to see:\n",
    "\n",
    "```Python\n",
    ">>> cs106a = StanfordCourse(\"CS\", \"106A\", \"Programming Methodology\")\n",
    ">>> cs106b = StanfordCSCourse(\"CS\", \"106B\", \"Programming Abstractions\")\n",
    ">>> cs107 = StanfordCSCourse(\"CS\", \"107\", \"Computer Organzation and Systems\")\n",
    ">>> cs110 = StanfordCSCourse(\"CS\", \"110\", \"Principles of Computer Systems\")\n",
    ">>> cs110 > cs106b\n",
    "True\n",
    ">>> cs107 > cs110\n",
    "False\n",
    "```\n",
    "\n",
    "To accomplish this, you will need to implement a magic method `__le__` that will add functionality to determine if a course is a prerequisite for another course. Read up on [total ordering](https://docs.python.org/3/library/functools.html#functools.total_ordering) to figure out what `__le__` should return based on the argument you pass in.\n",
    "\n",
    "To give a few hints on how to add this piece of functionality might be implemented, consider how you might extract the actual `int` number from the course code attribute.\n",
    "\n",
    "Additionally, you should implement a `__eq__` on `StanfordCourse`s. Two classes are equivalent if they are in the same department and have the same course code: the course title doesn't matter here."
   ]
  },
  {
   "cell_type": "code",
   "execution_count": null,
   "metadata": {},
   "outputs": [],
   "source": [
    "class StanfordCourse:\n",
    "    def __init__(self, department, code, title):\n",
    "        self.department = department\n",
    "        self.code = code\n",
    "        self.title = title\n",
    "        \n",
    "    def mark_attendance(*students):\n",
    "        pass\n",
    "    \n",
    "    def __le__(self, other):\n",
    "        pass\n",
    "    \n",
    "    def __eq__(self, other):\n",
    "        pass"
   ]
  },
  {
   "cell_type": "markdown",
   "metadata": {},
   "source": [
    "#### Sorting\n",
    "\n",
    "Now that we've written a `__le__` method and an `__eq__` method, we've implemented everything we need to speak about an \"ordering\" of `StanfordCourse`s. Using the [`functools.total_ordering` decorator](https://docs.python.org/3/library/functools.html#functools.total_ordering), decorate the class so that all of the comparison methods are implemented. You should be able to run"
   ]
  },
  {
   "cell_type": "code",
   "execution_count": null,
   "metadata": {},
   "outputs": [],
   "source": [
    "# Let's make CS106A a CS course\n",
    "cs106a = StanfordCSCourse(\"CS\", \"106A\", \"Programming Methodology\")\n",
    "cs106b = StanfordCSCourse(\"CS\", \"106B\", \"Programming Abstractions\")\n",
    "cs107 = StanfordCSCourse(\"CS\", \"107\", \"Computer Organzation and Systems\")\n",
    "cs110 = StanfordCSCourse(\"CS\", \"110\", \"Principles of Computer Systems\")\n",
    "\n",
    "courses = [cs110, cs106a, cs107, cs106b]\n",
    "courses.sort()\n",
    "courses # => [cs106a, cs106b, cs107, cs110]"
   ]
  },
  {
   "cell_type": "markdown",
   "metadata": {},
   "source": [
    "### Instructors (optional)\n",
    "\n",
    "Allow the class to take a splat argument `instructors` that will take any number of strings and store them as a list of instructors.\n",
    "\n",
    "Modify the way you track attendance in the `StanfordCourse` class to map a Python date object (you can use the `datetime` module) to a data structure tracking what students are there on that day."
   ]
  },
  {
   "cell_type": "code",
   "execution_count": null,
   "metadata": {},
   "outputs": [],
   "source": [
    "class StanfordCourseWithInstructors:\n",
    "    pass"
   ]
  },
  {
   "cell_type": "markdown",
   "metadata": {},
   "source": [
    "### Catalog\n",
    "\n",
    "Implement a class called `CourseCatalog` that is constructed from a list of `StanfordCourse`s. Write a method for the `CourseCatalog` which returns a list of courses in a given department. Additionally, write a method for `CourseCatalog` that returns all courses that contain a given piece of search text in their title.\n",
    "\n",
    "Feel free to implement any other interesting methods you'd like."
   ]
  },
  {
   "cell_type": "code",
   "execution_count": null,
   "metadata": {},
   "outputs": [],
   "source": [
    "class CourseCatalog:\n",
    "    def __init__(self, courses):\n",
    "        pass\n",
    "       \n",
    "    def courses_by_department(self, department_name):\n",
    "        pass\n",
    "        \n",
    "    def courses_by_search_term(self, search_snippet):\n",
    "        pass"
   ]
  },
  {
   "cell_type": "markdown",
   "metadata": {},
   "source": [
    "## Magic Methods"
   ]
  },
  {
   "cell_type": "markdown",
   "metadata": {},
   "source": [
    "### Reading\n",
    "\n",
    "Python provides an enormous number of special methods that a class can override to interoperator with builtin Python operations. You can skim through an [approximate visual list](http://diveintopython3.problemsolving.io/special-method-names.html) from Dive into Python3, or a [more verbose explanation](https://rszalski.github.io/magicmethods/), or the [complete Python documentation](https://docs.python.org/3/reference/datamodel.html#specialnames) on special methods. Fair warning, there are a lot of them, so it's probably better to skim than to really take a deep dive, unless you're loving this stuff."
   ]
  },
  {
   "cell_type": "markdown",
   "metadata": {},
   "source": [
    "### Writing (Polynomial Class)\n",
    "\n",
    "We will write a `Polynomial` class that acts like a number. As a a reminder, a [polynomial](https://en.wikipedia.org/wiki/Polynomial) is a mathematical object that looks like $1 + x + x^2$ or $4 - 10x + x^3$ or $-4 - 2x^{10}$. A mathematical polynomial can be evaluated at a given value of $x$. For example, if $f(x) = 1 + x + x^2$, then $f(5) = 1 + 5 + 5^2 = 1 + 5 + 25 = 31$.\n",
    "\n",
    "Polynomials are also added componentwise: If $f(x) = 1 + 4x + 4x^3$ and $g(x) = 2 + 3x^2 + 5x^3$, then $(f + g)(x) = (1 + 2) + 4x + 3x^2 + (4 + 5)x^3 = 3 + 4 + 3x^2 + 9x^3$.\n",
    "\n",
    "Construct a polynomial with a variadic list of coefficients: the zeroth argument is the coordinate of the $x^0$'s place, the first argument is the coordinate of the $x^1$'s place, and so on. For example, `f = Polynomial(1, 3, 5)` should construct a `Polynomial` representing $1 + 3x + 5x^2$.\n",
    "\n",
    "You will need to override the addition special method (`__add__`) and the callable special method (`__call__`).\n",
    "\n",
    "You should be able to emulate the following code:\n",
    "\n",
    "```Python\n",
    "f = Polynomial(1, 5, 10)\n",
    "g = Polynomial(1, 3, 5)\n",
    "\n",
    "print(f(5))  # => Invokes `f.__call__(5)`\n",
    "print(g(2))  # => Invokes `g.__call__(2)`\n",
    "\n",
    "h = f + g    # => Invokes `f.__add__(g)`\n",
    "print(h(3))  # => Invokes `h.__call__(3)`\n",
    "```\n",
    "\n",
    "Lastly, implement a method to convert a `Polynomial` to an informal string representation. For example, the polynomial `Polynomial(1, 3, 5)` should be represented by the string `\"1 * x^0 + 3 * x^1 + 5 * x^2\"`."
   ]
  },
  {
   "cell_type": "code",
   "execution_count": null,
   "metadata": {},
   "outputs": [],
   "source": [
    "class Polynomial:\n",
    "    def __init__(self):\n",
    "        pass\n",
    "    \n",
    "    def __call__(self, x):\n",
    "        \"\"\"Implement `self(x)`.\"\"\"\n",
    "        pass\n",
    "    \n",
    "    def __add__(self, other):\n",
    "        \"\"\"Implement `self + other`.\"\"\"\n",
    "        pass\n",
    "    \n",
    "    def __str__(self):\n",
    "        \"\"\"Implement `str(x)`.\"\"\"\n",
    "        pass"
   ]
  },
  {
   "cell_type": "markdown",
   "metadata": {},
   "source": [
    "#### Polynomial Extensions (optional)\n",
    "\n",
    "If you are looking for more, implement additional operations on our `Polynomial` class. You may want to implement `__sub__`, `__mul__`, and `__div__`.\n",
    "\n",
    "You can also implement more complicated mathematical operations, such as `f.derivative()`, which returns a new function that is the derivative of `f`, or `.zeros()`, which returns a collection of the function's zeros.\n",
    "\n",
    "If you need even more, write a `classmethod` to construct a polynomial from a string representation of it. You should be able to write:\n",
    "\n",
    "```\n",
    "f = Polynomial.parse(\"1 * x^0 + 3 * x^1 + 5 * x^2\")\n",
    "```"
   ]
  },
  {
   "cell_type": "markdown",
   "metadata": {},
   "source": [
    "## Done Early?\n",
    "\n",
    "Take a deep breath. Whatever you're working on, you can do it!"
   ]
  },
  {
   "cell_type": "markdown",
   "metadata": {},
   "source": [
    "## Credits\n",
    "Most of this lab was written by @sredmond with modifications by @coopermj."
   ]
  },
  {
   "cell_type": "markdown",
   "metadata": {},
   "source": [
    "> With &#129412; by @psarin and @coopermj"
   ]
  }
 ],
 "metadata": {
  "kernelspec": {
   "display_name": "Python 3",
   "language": "python",
   "name": "python3"
  },
  "language_info": {
   "codemirror_mode": {
    "name": "ipython",
    "version": 3
   },
   "file_extension": ".py",
   "mimetype": "text/x-python",
   "name": "python",
   "nbconvert_exporter": "python",
   "pygments_lexer": "ipython3",
   "version": "3.8.0"
  }
 },
 "nbformat": 4,
 "nbformat_minor": 2
}
