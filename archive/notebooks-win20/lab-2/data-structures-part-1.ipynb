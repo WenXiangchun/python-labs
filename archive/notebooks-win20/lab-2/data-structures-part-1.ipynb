{
 "cells": [
  {
   "cell_type": "markdown",
   "metadata": {},
   "source": [
    "# Lab 2: Welcome to Python + Data Structures"
   ]
  },
  {
   "cell_type": "markdown",
   "metadata": {},
   "source": [
    "## Overview\n",
    "\n",
    "Welcome to your first lab! Labs in CS41 are designed to be your opportunity to experiment with Python and gain hands-on experience with the language.\n",
    "\n",
    "The primary goal of the first half is to ensure that your Python installation process went smoothly, and that there are no lingering Python installation bugs floating around.\n",
    "\n",
    "The second half focuses more on using data structures to solve some interesting problems.\n",
    "\n",
    "You're welcome to work in groups or individually. Remember to have some fun! Make friends and maybe relax a little too. If you want to cue up any songs to the CS41 playlist, let us know or add them yourself at [this link](https://open.spotify.com/playlist/1pn8cUoKsLlOfX7WEEARz4?si=jKogUQTsSDmqu6RbSBGfGA)!\n",
    "\n",
    "**Note: These labs are *designed* to be long! You shouldn't be able to finish all the problems in one class period. Work through as much as you can in the time allotted, but also feel free to skip from question to question freely. Part II is intended to be extra practice, if you want to hone your Python skills even more.**\n",
    "\n",
    "Above all, have fun playing with Python! Enjoy.\n",
    "\n",
    "### Running this notebook\n",
    "\n",
    "To run a Jupyter notebook, first change directories (`cd`) to wherever you've downloaded the notebook. Then, from a command line, activate the CS41 environment (usually `source ~/cs41-env/bin/activate`) and run:\n",
    "\n",
    "```shell\n",
    "(cs41-env) $ jupyter notebook\n",
    "```\n",
    "\n",
    "You might need to `pip install jupyterlab` from within your virtual environment if you haven't yet. "
   ]
  },
  {
   "cell_type": "markdown",
   "metadata": {},
   "source": [
    "## Zen of Python\n",
    "\n",
    "Run the following code cell by selecting the cell and pressing Shift+Enter."
   ]
  },
  {
   "cell_type": "code",
   "execution_count": null,
   "metadata": {},
   "outputs": [],
   "source": [
    "import this"
   ]
  },
  {
   "cell_type": "markdown",
   "metadata": {},
   "source": [
    "## Hello World\n",
    "\n",
    "Edit the following cell so that it prints `\"Hello, world!\"` when executed, and then run the cell to confirm."
   ]
  },
  {
   "cell_type": "code",
   "execution_count": null,
   "metadata": {},
   "outputs": [],
   "source": [
    "# Edit me so that I print out \"Hello, world!\" when run!"
   ]
  },
  {
   "cell_type": "markdown",
   "metadata": {},
   "source": [
    "## Warmup Problems! 🦄"
   ]
  },
  {
   "cell_type": "markdown",
   "metadata": {},
   "source": [
    "### Fizz, Buzz, FizzBuzz!\n",
    "If we list all of the natural numbers under 41 that are a multiple of 3 or 5, we get\n",
    "\n",
    "```\n",
    " 3,  5,  6,  9, 10, 12, 15,\n",
    "18, 20, 21, 24, 25, 27, 30,\n",
    "33, 35, 36, 39, 40\n",
    "```\n",
    "\n",
    "The sum of these numbers is 408.\n",
    "\n",
    "Find the sum of all the multiples of 3 or 5 below 1001. As a sanity check, the last two digits of the sum should be `68`."
   ]
  },
  {
   "cell_type": "code",
   "execution_count": null,
   "metadata": {},
   "outputs": [],
   "source": [
    "def fizzbuzz(n):\n",
    "    \"\"\"Returns the sum of all numbers less than n divisible by 3 or 5.\"\"\"\n",
    "    pass\n",
    "\n",
    "print(fizzbuzz(41))  # => 408\n",
    "print(fizzbuzz(1001))"
   ]
  },
  {
   "cell_type": "markdown",
   "metadata": {},
   "source": [
    "### Collatz Sequence\n",
    "Depending on from whom you took CS106A, you may have seen this problem before.\n",
    "\n",
    "The *Collatz sequence* is an iterative sequence defined on the positive integers by:\n",
    "\n",
    "```\n",
    "n -> n / 2    if n is even\n",
    "n -> 3n + 1   if n is odd\n",
    "```\n",
    "\n",
    "For example, using the rule above and starting with 13 yields the sequence:\n",
    "\n",
    "```\n",
    "13 -> 40 -> 20 -> 10 -> 5 -> 16 -> 8 -> 4 -> 2 -> 1\n",
    "```\n",
    "\n",
    "It can be seen that this sequence (starting at 13 and finishing at 1) contains 10 terms. Although unproven, it it hypothesized that all starting numbers finish at 1.\n",
    "\n",
    "What is the length of the longest chain which has a starting number under 1000?\n",
    "\n",
    "**Challenge**: Same question, but for any starting number under 1,000,000. What about for any starting number under 10,000,000? You may need to implement a cleverer-than-naive algorithm.\n",
    "\n",
    "<details>\n",
    "    <summary><b>Hints</b> (click to expand):</summary>\n",
    "    <ol>\n",
    "        <li>You can implement <code>collatz_len</code> really elegantly using recursion, but you don't need that! You can also use a <code>while</code> loop.</li>\n",
    "        <li>(for the challenge) You don't need to do any complicated math to get the cleverer-than-naive algorithm! Just try to improve efficiency when your code encounters a Collatz sequence that it's already encountered.</li>\n",
    "    </ol>\n",
    "</details>\n",
    "\n",
    "*NOTE: Once the chain starts the terms are allowed to go above one thousand.*"
   ]
  },
  {
   "cell_type": "code",
   "execution_count": null,
   "metadata": {},
   "outputs": [],
   "source": [
    "def collatz_len(n):\n",
    "    \"\"\"Computes the length of the Collatz sequence starting at n.\"\"\"\n",
    "    pass\n",
    "\n",
    "def max_collatz_len(n):\n",
    "    \"\"\"Computes the longest Collatz sequence length for starting numbers less than n\"\"\"\n",
    "    pass\n",
    "\n",
    "print(collatz_len(13))  # => 10\n",
    "print(max_collatz_len(1000))\n",
    "\n",
    "# Challenge: Only attempt to solve these if you feel very comfortable with this material.\n",
    "# print(max_collatz_len(1000000))\n",
    "# print(max_collatz_len(100000000))"
   ]
  },
  {
   "cell_type": "markdown",
   "metadata": {},
   "source": [
    "### Zen Printing\n",
    "\n",
    "Write a program using `print()` that, when run, prints out a tic-tac-toe board.\n",
    "\n",
    "```\n",
    " X | . | . \n",
    "-----------\n",
    " . | O | . \n",
    "-----------\n",
    " . | O | X \n",
    "```\n",
    "\n",
    "You may find the optional arguments to `print()` useful, which you can read about [here](https://docs.python.org/3/library/functions.html#print). In no more than five minutes, try to use these optional arguments to print out this particular tic-tac-toe board."
   ]
  },
  {
   "cell_type": "code",
   "execution_count": null,
   "metadata": {},
   "outputs": [],
   "source": [
    "# Print a tic-tac-toe board using optional arguments.\n",
    "def print_tictactoe():\n",
    "    \"\"\"Print out a specific partially-filled tic-tac-toe board.\"\"\"\n",
    "    pass"
   ]
  },
  {
   "cell_type": "markdown",
   "metadata": {},
   "source": [
    "Maybe you were able to print out the tic-tac-toe board. Maybe not. In the five minutes you've been working on that, I've gotten bored with normal tic-tac-toe (too many ties!) so now, I want to play SUPER tic-tac-toe.\n",
    "\n",
    "Write a program that prints out a SUPER tic-tac-toe board.\n",
    "\n",
    "```\n",
    "  |  |  H  |  |  H  |  |  \n",
    "--+--+--H--+--+--H--+--+--\n",
    "  |  |  H  |  |  H  |  |  \n",
    "--+--+--H--+--+--H--+--+--\n",
    "  |  |  H  |  |  H  |  |  \n",
    "========+========+========\n",
    "  |  |  H  |  |  H  |  |  \n",
    "--+--+--H--+--+--H--+--+--\n",
    "  |  |  H  |  |  H  |  |  \n",
    "--+--+--H--+--+--H--+--+--\n",
    "  |  |  H  |  |  H  |  |  \n",
    "========+========+========\n",
    "  |  |  H  |  |  H  |  |  \n",
    "--+--+--H--+--+--H--+--+--\n",
    "  |  |  H  |  |  H  |  |  \n",
    "--+--+--H--+--+--H--+--+--\n",
    "  |  |  H  |  |  H  |  |  \n",
    "```\n",
    "\n",
    "You'll find that there might be many ways to solve this problem. Which do you think is the most 'pythonic?' Talk to someone next to you about your approach to this problem. Remember the Zen of Python!\n",
    "\n",
    "**Hint:** To find the most Pythonic way to do this, think about what you'd do if I said you have 10 seconds to write code that prints out the list."
   ]
  },
  {
   "cell_type": "code",
   "execution_count": null,
   "metadata": {},
   "outputs": [],
   "source": [
    "def print_super_tictactoe():\n",
    "    \"\"\"Print an empty SUPER tic-tac-toe board.\"\"\"\n",
    "    pass"
   ]
  },
  {
   "cell_type": "markdown",
   "metadata": {},
   "source": [
    "## Data Structures, whooo!\n",
    "If you've gotten this far, you're already above and beyond! Our recommendation at this point is to pick out the most interesting of the following problems and solve those!\n",
    "\n",
    "[Optional Reading on Standard Types - check out Sequence types and Mapping types](https://docs.python.org/3/library/stdtypes.html)"
   ]
  },
  {
   "cell_type": "markdown",
   "metadata": {},
   "source": [
    "### Tuples and Dicts: Caching\n",
    "In this problem, we'll use tuples and dicts to memoize a recursive function.\n",
    "\n",
    "*Note*: In general, we try to keep this class as self-contained as possible and don't ask that you know too much computer science outside of CS41. For this problem, though, you will use recursion. If you aren't super comfortable with recursion or recursive memoization, feel free to skip ahead!\n",
    "\n",
    "This problem is called **lattice paths**. Starting in the top left corner of a $2 \\times 2$ grid, and only being able to move to the right and down, there are exactly 6 routes to the bottom right corner.\n",
    "\n",
    "![2x2 paths](https://projecteuler.net/project/images/p015.png)\n",
    "\n",
    "Write a recursive (non-memoized) function to calculate the number of paths from the top left of an $m \\times n$ grid ($m$ rows and $n$ columns) to the bottom right corner.\n",
    "\n",
    "Notice that the problem seems very similar to itself... At every point in the grid, you only have two moves: down and left.\n",
    "\n",
    "<details>\n",
    "    <summary><b>Hints</b> (click to expand):</summary>\n",
    "    <ol>\n",
    "        <li>The recursive base case is a grid where <i>either</i> the number of rows is zero or the number of columns is zero. How many paths are there in this case? Notice that programming it this way also prevents $m$ or $n$ from being negative.</li>\n",
    "        <li>Suppose you move down. Then, the remaining problem is <i>still</i> to count the number of paths from the top left of a grid to the bottom right, but now the grid is a different size.</li>\n",
    "        <li>If you move down, the problem becomes counting the number of paths from the top left of a grid of size $(m-1) \\times n$ to the bottom right of that grid.</li>\n",
    "    </ol>\n",
    "</details>"
   ]
  },
  {
   "cell_type": "code",
   "execution_count": null,
   "metadata": {
    "scrolled": true
   },
   "outputs": [],
   "source": [
    "def lattice_paths(m, n):\n",
    "    pass\n",
    "\n",
    "print(lattice_paths(2, 2)) # => 6\n",
    "print(lattice_paths(6, 6)) # => 924\n",
    "#print(lattice_paths(20, 20)) # => this takes too long without memoization!\n",
    "#print(lattice_paths(40, 40)) # => this takes WAY too long without memoization!"
   ]
  },
  {
   "cell_type": "markdown",
   "metadata": {},
   "source": [
    "Notice that the way that our code is constructed results in a lot of repeated calls to the same functions. For example, if you start at the top of a $20 \\times 20$ grid and go down, then right, you'll make a function call for a $19 \\times 19$ grid. But you'll also make that call if you go right and *then* down. This is where memoization comes in. We'll store the output of `lattice_paths` in a dictionary the first time that we call it and then the second time, we'll just immediately return the value from the dictionary so that we won't make calls twice.\n",
    "\n",
    "Let's memoize `lattice_paths` by adding its output to a dictionary. This dictionary should have keys that are tuples $(m,n)$ and values that are the output `lattice_paths(m,n)`. Make sure to check if the tuple `(m,n)` is in the memoization dictionary at the beginning of the function execution."
   ]
  },
  {
   "cell_type": "code",
   "execution_count": null,
   "metadata": {
    "scrolled": true
   },
   "outputs": [],
   "source": [
    "memoization_dict = {}\n",
    "\n",
    "def lattice_paths_memoized(m, n, memoization_dict):\n",
    "    pass\n",
    "\n",
    "print(lattice_paths_memoized(2, 2, memoization_dict))   # => 6\n",
    "print(lattice_paths_memoized(6, 6, memoization_dict))   # => 924\n",
    "print(lattice_paths_memoized(20, 20, memoization_dict)) # => sanity check: ends with 8820\n",
    "print(lattice_paths_memoized(40, 40, memoization_dict)) # => sanity check: ends with 1620\n",
    "\n",
    "memoization_dict.clear()"
   ]
  },
  {
   "cell_type": "markdown",
   "metadata": {},
   "source": [
    "### Lists\n",
    "Predict what the following lines of Python will do. Then, run the code block below to see if they match what you expect:\n",
    "\n",
    "```Python\n",
    "s = [0] * 3\n",
    "print(s)\n",
    "s[0] += 1\n",
    "print(s)\n",
    "\n",
    "s = [''] * 3\n",
    "print(s)\n",
    "s[0] += 'a'\n",
    "print(s)\n",
    "\n",
    "s = [[]] * 3\n",
    "print(s)\n",
    "s[0] += [1]\n",
    "print(s)\n",
    "```"
   ]
  },
  {
   "cell_type": "code",
   "execution_count": null,
   "metadata": {},
   "outputs": [],
   "source": [
    "# Explore the elements of lists. Is the output what you expect?\n",
    "s = [0] * 3\n",
    "print(s)\n",
    "s[0] += 1\n",
    "print(s)"
   ]
  },
  {
   "cell_type": "code",
   "execution_count": null,
   "metadata": {},
   "outputs": [],
   "source": [
    "s = [''] * 3\n",
    "print(s)\n",
    "s[0] += 'a'\n",
    "print(s)"
   ]
  },
  {
   "cell_type": "code",
   "execution_count": null,
   "metadata": {},
   "outputs": [],
   "source": [
    "s = [[]] * 3\n",
    "print(s)\n",
    "s[0] += [1]\n",
    "print(s)"
   ]
  },
  {
   "cell_type": "markdown",
   "metadata": {},
   "source": [
    "#### Let's investigate... why is this happening? \n",
    "\n",
    "Strategies for investigation (that you can use to understand this situation better):\n",
    "1. We'll use the `id` function to investigate further. \n",
    "2. Think about when Python creates a copy of objects and when it doesn't... does this help explain the behavior in the examples?\n",
    "3. What happens when we replace the second-to-last line with `s[0] = s[0] + [1]`? What if we replace the line with `s[0].append(1)`?"
   ]
  },
  {
   "cell_type": "code",
   "execution_count": null,
   "metadata": {
    "scrolled": false
   },
   "outputs": [],
   "source": [
    "s_int = [0] * 3\n",
    "s_str = [''] * 3\n",
    "s_lst = [[]] * 3\n",
    "\n",
    "print(s_int[0] is s_int[1] is s_int[2])\n",
    "print(s_str[0] is s_str[1] is s_str[2])\n",
    "print(s_lst[0] is s_lst[1] is s_lst[2])"
   ]
  },
  {
   "cell_type": "markdown",
   "metadata": {},
   "source": [
    "Okay, this is how the lists are initialized... so when does this change?"
   ]
  },
  {
   "cell_type": "code",
   "execution_count": null,
   "metadata": {
    "scrolled": true
   },
   "outputs": [],
   "source": [
    "s_int[0] += 1\n",
    "print(id(s_int[0]))\n",
    "print(id(s_int[1]))\n",
    "print(id(s_int[2]))"
   ]
  },
  {
   "cell_type": "code",
   "execution_count": null,
   "metadata": {
    "scrolled": false
   },
   "outputs": [],
   "source": [
    "s_str[0] += 'a'\n",
    "print(id(s_str[0]))\n",
    "print(id(s_str[1]))\n",
    "print(id(s_str[2]))"
   ]
  },
  {
   "cell_type": "code",
   "execution_count": null,
   "metadata": {
    "scrolled": true
   },
   "outputs": [],
   "source": [
    "s_lst[0] += [[1]]\n",
    "print(id(s_lst[0]))\n",
    "print(id(s_lst[1]))\n",
    "print(id(s_lst[2]))"
   ]
  },
  {
   "cell_type": "markdown",
   "metadata": {},
   "source": [
    "**WOW**! What does that tell you about the way that Python treats ints vs. strings vs. lists? Tell your neighbor, in an excited tone of voice (or a Barack Obama impression)!\n",
    "\n",
    "Based on that, predict what this function is going to do..."
   ]
  },
  {
   "cell_type": "code",
   "execution_count": null,
   "metadata": {},
   "outputs": [],
   "source": [
    "lst = ['I', 'know', \"you'll\", 'think', \"I'm\", 'like', 'the', 'others']\n",
    "s = \"Who saw your name and number on the \"\n",
    "i = 8675308\n",
    "\n",
    "def sing(lst, s, i):\n",
    "    lst += ['before']\n",
    "    s += 'wall'\n",
    "    i += 1\n",
    "\n",
    "sing(lst, s, i)\n",
    "print(' '.join(lst))\n",
    "print(s)\n",
    "print(i)"
   ]
  },
  {
   "cell_type": "markdown",
   "metadata": {},
   "source": [
    "Jenny, Jenny, who can I turn to... (Jenny may be ignoring you, but Python's always got your back 😉)"
   ]
  },
  {
   "cell_type": "markdown",
   "metadata": {},
   "source": [
    "### Tuples\n",
    "\n",
    "Write a function to compute the [GCD](https://en.wikipedia.org/wiki/Greatest_common_divisor) of two positive integers. You can freely use the fact that `gcd(a, b)` is mathematically equal to `gcd(b, a % b)`, and that `gcd(a, 0) == a`.\n",
    "\n",
    "You can assume that `a >= b` if you'd like.\n",
    "\n",
    "It is possible to accomplish this in three lines of Python code (or with extra cleverness, even fewer!). Consider exploiting tuple packing and unpacking!\n",
    "\n",
    "*Note: The standard library has a `gcd` function. Avoid simply importing that function and using it here - the goal is to practice with tuple packing and unpacking!*"
   ]
  },
  {
   "cell_type": "code",
   "execution_count": null,
   "metadata": {},
   "outputs": [],
   "source": [
    "def gcd(a, b):\n",
    "    \"\"\"Compute the GCD of two positive integers.\"\"\"\n",
    "    pass  # Your implementation here\n",
    "    \n",
    "gcd(10, 25) # => 5\n",
    "gcd(14, 15) # => 1\n",
    "gcd(3, 9) # => 3\n",
    "gcd(1, 1) # => 1"
   ]
  },
  {
   "cell_type": "markdown",
   "metadata": {},
   "source": [
    "### Flipping Dictionaries\n",
    "I asked our course staff what their favorite animal is and they gave me these answers:\n",
    "```python\n",
    "fav_animals = {\n",
    "    'parth': 'unicorn',\n",
    "    'michael': 'elephant',\n",
    "    'sam': 'ox',\n",
    "    'zheng': 'tree',\n",
    "    'theo': 'puppy',\n",
    "    'alex': 'dog',\n",
    "    'nick': 'daisy'\n",
    "}\n",
    "```\n",
    "\n",
    "I know that, realistically, they're lying to themselves. In fact, the dict probably looks more like this:\n",
    "```python\n",
    "fav_animals = {\n",
    "    'parth': 'unicorn',\n",
    "    'michael': 'unicorn',\n",
    "    'sam': 'unicorn',\n",
    "    'zheng': 'tree',\n",
    "    'theo': 'unicorn',\n",
    "    'alex': 'dog',\n",
    "    'nick': 'daisy'\n",
    "}\n",
    "```\n",
    "\n",
    "In this problem, we'll reverse the `fav_animals` dictionary to create a new dictionary which associates animals to a list of people for whom that animal is their favorite. \n",
    "\n",
    "More precisely, write a function that properly reverses the keys and values of a dictionary - each key (originally a value) should map to a collection of values (originally keys) that mapped to it. For example,\n",
    "\n",
    "```python\n",
    "flip_dict({\"CA\": \"US\", \"NY\": \"US\", \"ON\": \"CA\"})\n",
    "# => {\"US\": [\"CA\", \"NY\"], \"CA\": [\"ON\"]}\n",
    "```\n",
    "\n",
    "Note: there is a data structure in the `collections` module from the standard library called `defaultdict` which provides exactly this sort of functionality. You provide it a factory method for creating default values in the dictionary (in this case, a list.) You can read more about `defaultdict` and other `collections` data structures [here](https://docs.python.org/3/library/collections.html)."
   ]
  },
  {
   "cell_type": "code",
   "execution_count": null,
   "metadata": {},
   "outputs": [],
   "source": [
    "fav_animals = {\n",
    "    'parth': 'unicorn',\n",
    "    'michael': 'unicorn',\n",
    "    'sam': 'unicorn',\n",
    "    'zheng': 'tree',\n",
    "    'theo': 'unicorn',\n",
    "    'alex': 'dog',\n",
    "    'nick': 'daisy'\n",
    "}\n",
    "\n",
    "def flip_dict(d):\n",
    "    pass\n",
    "\n",
    "print(flip_dict(fav_animals))\n",
    "# {'unicorn': ['parth', 'michael', 'sam', 'theo'], 'tree': ['zheng'], 'dog': ['alex'], 'daisy': ['nick']}"
   ]
  },
  {
   "cell_type": "markdown",
   "metadata": {},
   "source": [
    "# Bonus Problems\n",
    "Don't worry about doing these bonus problems. In most cases, bonus questions ask you to think more critically or use more advanced algorithms.\n",
    "\n",
    "In this case, we'll use list comprehensions to solve some interesting problems."
   ]
  },
  {
   "cell_type": "markdown",
   "metadata": {},
   "source": [
    "### Pascal's Triangle\n",
    "Write a function that generates the next level of [Pascal's triangle](https://en.wikipedia.org/wiki/Pascal%27s_triangle) given a list that represents a row of Pascal’s triangle.\n",
    "\n",
    "```\n",
    "generate_pascal_row([1, 2, 1]) -> [1, 3, 3, 1]\n",
    "generate_pascal_row([1, 4, 6, 4, 1]) -> [1, 5, 10, 10, 5, 1]\n",
    "generate_pascal_row([]) -> [1]\n",
    "```\n",
    "\n",
    "As a reminder, each element in a row of Pascal's triangle is formed by summing the two elements in the previous row directly above (to the left and right) that elements. If there is only one element directly above, we only add that one. For example, the first 5 rows of Pascal's triangle look like:\n",
    "\n",
    "```\n",
    "    1\n",
    "   1 1\n",
    "  1 2 1\n",
    " 1 3 3 1\n",
    "1 4 6 4 1\n",
    "```\n",
    "\n",
    "You could solve this problem with `enumerate` or look up the `zip` function for an even more Pythonic solution (use iPython, perhaps?)! Avoid using a loop of the form `for i in len(range(row)):`.\n",
    "\n",
    "*Hint: Check out the diagram below. How could you use this insight to help complete this problem?*\n",
    "\n",
    "```\n",
    "  0 1 3 3 1\n",
    "+ 1 3 3 1 0\n",
    "-----------\n",
    "  1 4 6 4 1\n",
    "``` "
   ]
  },
  {
   "cell_type": "code",
   "execution_count": null,
   "metadata": {},
   "outputs": [],
   "source": [
    "def generate_pascal_row(row):\n",
    "    \"\"\"Generate the next row of Pascal's triangle.\"\"\"\n",
    "    pass\n",
    "\n",
    "generate_pascal_row([1, 2, 1])  # => [1, 3, 3, 1]\n",
    "generate_pascal_row([1, 4, 6, 4, 1])  # => [1, 5, 10, 10, 5, 1]\n",
    "generate_pascal_row([])  # => [1]"
   ]
  },
  {
   "cell_type": "markdown",
   "metadata": {},
   "source": [
    "## Cyclone Phrases (challenge)\n",
    "\n",
    "For the following problem, we describe a criterion that makes a word (or phrase!) special, similarly to our \"Efficient Words\" from lecture.\n",
    "\n",
    "Before that, though, we need to load up a list of all of the words in the English language to see which words fit the criterion.\n",
    "\n",
    "If you are using macOS or Linux, you should have a dictionary file available at `/usr/share/dict/words`, a 2.5M text file containing over 200 thousand English words, one per line. However, we've also mirrored this file at `https://stanfordpython.com/res/misc/words`, so you can download the dictionary from there if your computer doesn't have this dictionary file readily available.\n",
    "\n",
    "What would be an appropriate data structure in which to store the English words?\n",
    "\n",
    "Write the method `load_english` to load English words from this file. How many English words are there in this file?"
   ]
  },
  {
   "cell_type": "code",
   "execution_count": null,
   "metadata": {},
   "outputs": [],
   "source": [
    "# If you downloaded words from the course website,\n",
    "# change me to the path to the downloaded file.\n",
    "DICTIONARY_FILE = '/usr/share/dict/words'\n",
    "\n",
    "def load_english():\n",
    "    \"\"\"Load and return a collection of english words from a file.\"\"\"\n",
    "    pass\n",
    "\n",
    "english = load_english()\n",
    "print(len(english))"
   ]
  },
  {
   "cell_type": "markdown",
   "metadata": {},
   "source": [
    "Cyclone words are English words that have a sequence of characters in alphabetical order when following a cyclic pattern. \n",
    "\n",
    "For example:\n",
    "\n",
    "![Cyclone Phrases](http://i.stack.imgur.com/4XBV3.png)\n",
    "\n",
    "Write a function that to determine whether an entire phrase passed into a function is made of cyclone words. You can assume that all words are made of only alphabetic characters, and are separated by whitespace.\n",
    "\n",
    "```\n",
    "is_cyclone_phrase(\"adjourned\") # => True\n",
    "is_cyclone_phrase(\"settled\") # => False\n",
    "is_cyclone_phrase(\"all alone at noon\") # => True\n",
    "is_cyclone_phrase(\"by myself at twelve pm\") # => False\n",
    "is_cyclone_phrase(\"acb\") # => True\n",
    "is_cyclone_phrase(\"\") # => True\n",
    "```\n",
    "\n",
    "Generate a list of all cyclone words. How many are there? As a sanity check, we found 769 distinct cyclone words."
   ]
  },
  {
   "cell_type": "code",
   "execution_count": null,
   "metadata": {},
   "outputs": [],
   "source": [
    "def is_cyclone_word(word):\n",
    "    \"\"\"Return whether a word is a cyclone word.\"\"\"\n",
    "    \n",
    "def is_cyclone_phrase(word):\n",
    "    \"\"\"Return whether a phrase is composed only of cyclone words.\"\"\""
   ]
  },
  {
   "cell_type": "markdown",
   "metadata": {},
   "source": [
    "## Done Early?\n",
    "Download the second part of this lab and keep working, if you'd like! The second part of the lab is significantly more difficult than the problems here, especially the later problems in the extra lab notebook. You can download the notebook at [this link](https://github.com/stanfordpython/python-labs/blob/master/notebooks/lab-2-data-structures-part-2.ipynb).\n",
    "\n",
    "Skim [Python’s Style Guide](https://www.python.org/dev/peps/pep-0008/), keeping the Zen of Python in mind. Feel free to skip portions of the style guide that cover material we haven't yet touched on in this class, but it's always good to start with an overview of good style."
   ]
  },
  {
   "cell_type": "markdown",
   "metadata": {},
   "source": [
    "## Submitting Labs\n",
    "\n",
    "Alright, you did it! There's nothing to submit for this lab - just show one of the course staff members what you've done. You're free to leave as soon as you've finished this lab.\n",
    "\n",
    "*Credit to Sam Redmond, Puzzling.SE (specifically [JLee](https://puzzling.stackexchange.com/users/463/jlee)), ProjectEuler and InterviewCake for several problem ideas*"
   ]
  },
  {
   "cell_type": "markdown",
   "metadata": {},
   "source": [
    "> With 🦄 by @psarin and @coopermj"
   ]
  }
 ],
 "metadata": {
  "kernelspec": {
   "display_name": "Python 3",
   "language": "python",
   "name": "python3"
  },
  "language_info": {
   "codemirror_mode": {
    "name": "ipython",
    "version": 3
   },
   "file_extension": ".py",
   "mimetype": "text/x-python",
   "name": "python",
   "nbconvert_exporter": "python",
   "pygments_lexer": "ipython3",
   "version": "3.8.3"
  }
 },
 "nbformat": 4,
 "nbformat_minor": 2
}
